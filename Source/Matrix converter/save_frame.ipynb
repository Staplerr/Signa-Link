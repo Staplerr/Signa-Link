{
 "cells": [
  {
   "cell_type": "code",
   "execution_count": null,
   "metadata": {},
   "outputs": [],
   "source": [
    "import mediapipe as mp\n",
    "from mediapipe.tasks.python import vision\n",
    "import pandas as pd\n",
    "import time\n",
    "import cv2\n",
    "from pathlib import Path\n",
    "import time\n",
    "import multiprocessing"
   ]
  },
  {
   "cell_type": "code",
   "execution_count": null,
   "metadata": {},
   "outputs": [],
   "source": [
    "parentDirectory = Path(__file__).parent\n",
    "inputDirectory = parentDirectory.joinpath(\"Videos\")\n",
    "outputFile = parentDirectory.joinpath(\"image output\" + \".xlsx\")\n",
    "modelDirectory = parentDirectory.joinpath(\"Model\")\n",
    "handModel = modelDirectory.joinpath(\"hand_landmarker.task\")\n",
    "poseModel = modelDirectory.joinpath(\"pose_landmarker_full.task\")"
   ]
  },
  {
   "cell_type": "code",
   "execution_count": null,
   "metadata": {},
   "outputs": [],
   "source": [
    "supportsExtension = [\"*/*.mp4\", \"*/*.mov\"]\n",
    "sample = 5 #Save frame every n frame\n",
    "processes = []\n",
    "processesCount = 10\n",
    "frameBuffer = 10\n"
   ]
  },
  {
   "cell_type": "code",
   "execution_count": null,
   "metadata": {},
   "outputs": [],
   "source": [
    "poseColumnNameList = [\"nose\", \"left eye (inner)\", \"left eye\", \"left eye (outer)\", \"right eye (inner)\",\n",
    "                      \"right eye\", \"right eye (outer)\", \"left ear\", \"right ear\", \"mouth (left)\",\n",
    "                      \"mouth (right)\", \"left shoulder\", \"right shoulder\", \"left elbow\", \"right elbow\",\n",
    "                      \"left wrist\", \"right wrist\", \"left pinky\", \"right pinky\", \"left index\",\n",
    "                      \"right index\",\"left thumb\",\"right thumb\",\"left hip\",\"right hip\"]\n",
    "handColumnNameList = [\"wrist\", \"thumb cmc\", \"thumb mcp\", \"thumb ip\", \"thumb tip\",\n",
    "                      \"index finger mcp\", \"index finger pip\", \"index finger dip\", \"index finger tip\", \"middle finger mcp\",\n",
    "                      \"middle finger pip\", \"middle finger dip\", \"middle finger tip\", \"ring finger mcp\", \"ring finger pip\",\n",
    "                      \"ring finger dip\", \"ring finger tip\", \"pinky mcp\", \"pinky pip\", \"pinky dip\",\n",
    "                      \"pinky tip\"]\n",
    "columnNames = [\"Label\"]\n",
    "\n",
    "for i in range(frameBuffer):\n",
    "    for columnName in poseColumnNameList:\n",
    "        columnNames.append(f\"columnName_{i}\")\n",
    "    for columnName in handColumnNameList:\n",
    "        columnNames.append(f\"right_{columnName}_{i}\")\n",
    "    for columnName in handColumnNameList:\n",
    "        columnNames.append(f\"left_{columnName}_{i}\")\n",
    "df = pd.DataFrame(columns=columnNames)\n",
    "\n",
    "labelList = {\"กรอบ\": 0,     \"กระเพรา\": 1,    \"ขา\": 2,       \"ข้าว\": 3,\n",
    "             \"ไข่\": 4,       \"คะน้า\": 5,      \"เค็ม\": 6,       \"โจ๊ก\": 7,\n",
    "             \"แดง\": 8,      \"ต้ม\": 9,        \"แตงโม\": 10,    \"น้ำพริกเผา\": 11,\n",
    "             \"บะหมี่\": 12,    \"เปรี้ยว\": 13,    \"ผัด\": 14,       \"ฝรั่ง\": 15,\n",
    "             \"พริกแกง\": 16,  \"มะม่วง\": 17,    \"ม้า\": 18,       \"มาม่า\": 19,\n",
    "             \"ลูกชิ้นปลา\": 20, \"เลือด\": 21,     \"สับ\": 22,       \"เส้นเล็ก\": 23,\n",
    "             \"เส้นใหญ่\": 24,  \"หมู\": 25,       \"หวาน\": 26,     \"องุ่น\": 27,\n",
    "             \"แอปเปิ้ล\": 28}"
   ]
  },
  {
   "cell_type": "code",
   "execution_count": null,
   "metadata": {},
   "outputs": [],
   "source": [
    "#mediapipe config\n",
    "minPoseConfidence = 0.5\n",
    "minHandConfidence = 0.5\n",
    "\n",
    "BaseOptions = mp.tasks.BaseOptions\n",
    "PoseLandmarker = vision.PoseLandmarker\n",
    "PoseLandmarkerOptions = vision.PoseLandmarkerOptions\n",
    "HandLandmarker = vision.HandLandmarker\n",
    "HandLandmarkerOptions = vision.HandLandmarkerOptions\n",
    "VisionRunningMode = vision.RunningMode"
   ]
  },
  {
   "cell_type": "code",
   "execution_count": null,
   "metadata": {},
   "outputs": [],
   "source": [
    "#create the landmarker object\n",
    "poseOption = PoseLandmarkerOptions(base_options=mp.tasks.BaseOptions(poseModel),\n",
    "                                   running_mode=vision.RunningMode.IMAGE,\n",
    "                                   min_pose_detection_confidence=minPoseConfidence)\n",
    "handOption = HandLandmarkerOptions(base_options=BaseOptions(model_asset_path=handModel),\n",
    "                                   running_mode=VisionRunningMode.IMAGE,\n",
    "                                   min_hand_detection_confidence=minHandConfidence,\n",
    "                                   num_hands=2)\n",
    "poseLandmarker = PoseLandmarker.create_from_options(poseOption)\n",
    "HandLandmarker = HandLandmarker.create_from_options(handOption)"
   ]
  }
 ],
 "metadata": {
  "kernelspec": {
   "display_name": "Python 3",
   "language": "python",
   "name": "python3"
  },
  "language_info": {
   "name": "python",
   "version": "3.9.12"
  }
 },
 "nbformat": 4,
 "nbformat_minor": 2
}
