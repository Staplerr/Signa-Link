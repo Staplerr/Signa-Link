{
 "cells": [
  {
   "cell_type": "code",
   "execution_count": 1,
   "metadata": {},
   "outputs": [
    {
     "name": "stdout",
     "output_type": "stream",
     "text": [
      "WARNING:tensorflow:From c:\\Users\\mteer\\AppData\\Local\\Programs\\Python\\Python39\\lib\\site-packages\\keras\\src\\losses.py:2976: The name tf.losses.sparse_softmax_cross_entropy is deprecated. Please use tf.compat.v1.losses.sparse_softmax_cross_entropy instead.\n",
      "\n"
     ]
    }
   ],
   "source": [
    "import mediapipe as mp\n",
    "from mediapipe.tasks.python import vision\n",
    "import pandas as pd\n",
    "import time\n",
    "import cv2\n",
    "from pathlib import Path\n",
    "import time\n",
    "import multiprocessing\n",
    "import os"
   ]
  },
  {
   "cell_type": "code",
   "execution_count": 2,
   "metadata": {},
   "outputs": [],
   "source": [
    "parentDirectory = Path(r'C:\\Users\\mteer\\OneDrive\\Desktop\\Main\\Codes\\Signa-Link\\Source\\Matrix converter')\n",
    "out_path = r'C:\\Users\\mteer\\OneDrive\\Desktop\\ikky\\output'\n",
    "inputDirectory = parentDirectory.joinpath(\"Videos\")\n",
    "outputFile = parentDirectory.joinpath(\"image output\" + \".xlsx\")\n",
    "modelDirectory = parentDirectory.joinpath(\"Model\")\n",
    "handModel = modelDirectory.joinpath(\"hand_landmarker.task\")\n",
    "poseModel = modelDirectory.joinpath(\"pose_landmarker_full.task\")"
   ]
  },
  {
   "cell_type": "code",
   "execution_count": 3,
   "metadata": {},
   "outputs": [],
   "source": [
    "supportsExtension = [\"*/*.mp4\", \"*/*.mov\"]\n",
    "sample = 5 #Save frame every n frame\n",
    "processes = []\n",
    "processesCount = 10\n",
    "frameBuffer = 10\n"
   ]
  },
  {
   "cell_type": "code",
   "execution_count": 4,
   "metadata": {},
   "outputs": [],
   "source": [
    "poseColumnNameList = [\"nose\", \"left eye (inner)\", \"left eye\", \"left eye (outer)\", \"right eye (inner)\",\n",
    "                      \"right eye\", \"right eye (outer)\", \"left ear\", \"right ear\", \"mouth (left)\",\n",
    "                      \"mouth (right)\", \"left shoulder\", \"right shoulder\", \"left elbow\", \"right elbow\",\n",
    "                      \"left wrist\", \"right wrist\", \"left pinky\", \"right pinky\", \"left index\",\n",
    "                      \"right index\",\"left thumb\",\"right thumb\",\"left hip\",\"right hip\"]\n",
    "handColumnNameList = [\"wrist\", \"thumb cmc\", \"thumb mcp\", \"thumb ip\", \"thumb tip\",\n",
    "                      \"index finger mcp\", \"index finger pip\", \"index finger dip\", \"index finger tip\", \"middle finger mcp\",\n",
    "                      \"middle finger pip\", \"middle finger dip\", \"middle finger tip\", \"ring finger mcp\", \"ring finger pip\",\n",
    "                      \"ring finger dip\", \"ring finger tip\", \"pinky mcp\", \"pinky pip\", \"pinky dip\",\n",
    "                      \"pinky tip\"]\n",
    "columnNames = [\"Label\"]\n",
    "\n",
    "for i in range(frameBuffer):\n",
    "    for columnName in poseColumnNameList:\n",
    "        columnNames.append(f\"columnName_{i}\")\n",
    "    for columnName in handColumnNameList:\n",
    "        columnNames.append(f\"right_{columnName}_{i}\")\n",
    "    for columnName in handColumnNameList:\n",
    "        columnNames.append(f\"left_{columnName}_{i}\")\n",
    "df = pd.DataFrame(columns=columnNames)\n",
    "\n",
    "labelList = {\"กรอบ\": 0,     \"กระเพรา\": 1,    \"ขา\": 2,       \"ข้าว\": 3,\n",
    "             \"ไข่\": 4,       \"คะน้า\": 5,      \"เค็ม\": 6,       \"โจ๊ก\": 7,\n",
    "             \"แดง\": 8,      \"ต้ม\": 9,        \"แตงโม\": 10,    \"น้ำพริกเผา\": 11,\n",
    "             \"บะหมี่\": 12,    \"เปรี้ยว\": 13,    \"ผัด\": 14,       \"ฝรั่ง\": 15,\n",
    "             \"พริกแกง\": 16,  \"มะม่วง\": 17,    \"ม้า\": 18,       \"มาม่า\": 19,\n",
    "             \"ลูกชิ้นปลา\": 20, \"เลือด\": 21,     \"สับ\": 22,       \"เส้นเล็ก\": 23,\n",
    "             \"เส้นใหญ่\": 24,  \"หมู\": 25,       \"หวาน\": 26,     \"องุ่น\": 27,\n",
    "             \"แอปเปิ้ล\": 28}"
   ]
  },
  {
   "cell_type": "code",
   "execution_count": 5,
   "metadata": {},
   "outputs": [],
   "source": [
    "#mediapipe config\n",
    "minPoseConfidence = 0.5\n",
    "minHandConfidence = 0.5\n",
    "\n",
    "BaseOptions = mp.tasks.BaseOptions\n",
    "PoseLandmarker = vision.PoseLandmarker\n",
    "PoseLandmarkerOptions = vision.PoseLandmarkerOptions\n",
    "HandLandmarker = vision.HandLandmarker\n",
    "HandLandmarkerOptions = vision.HandLandmarkerOptions\n",
    "VisionRunningMode = vision.RunningMode"
   ]
  },
  {
   "cell_type": "code",
   "execution_count": 6,
   "metadata": {},
   "outputs": [],
   "source": [
    "#create the landmarker object\n",
    "poseOption = PoseLandmarkerOptions(base_options=BaseOptions(model_asset_path=poseModel),\n",
    "                                   running_mode=VisionRunningMode.IMAGE,\n",
    "                                   min_pose_detection_confidence=minPoseConfidence)\n",
    "handOption = HandLandmarkerOptions(base_options=BaseOptions(model_asset_path=handModel),\n",
    "                                   running_mode=VisionRunningMode.IMAGE,\n",
    "                                   min_hand_detection_confidence=minHandConfidence,\n",
    "                                   num_hands=2)\n",
    "poseLandmarker = PoseLandmarker.create_from_options(poseOption)\n",
    "HandLandmarker = HandLandmarker.create_from_options(handOption)"
   ]
  },
  {
   "cell_type": "code",
   "execution_count": 7,
   "metadata": {},
   "outputs": [],
   "source": [
    "test_path = r'C:\\Users\\mteer\\OneDrive\\Desktop\\ikky'\n",
    "\n",
    "os.chdir(out_path)\n",
    "for file in os.listdir(test_path):\n",
    "\n",
    "    if (os.path.splitext(file))[1] == '.mp4':\n",
    "        cap = cv2.VideoCapture(fr\"{test_path}\\{file}\")\n",
    "        while cap.isOpened():\n",
    "            ret, img = cap.read()\n",
    "\n",
    "            if not ret:\n",
    "                break\n",
    "            cv2.imshow('frame', img)\n",
    "            '''value = [[0, 0, 0]] * len(columnNames)\n",
    "            value[0] = labelList[\"หมู\"] \n",
    "            i = 1\n",
    "            for index, frame in enumerate(img):\n",
    "                i = 1 + (len(poseColumnNameList) + len(handColumnNameList) * 2) * index\n",
    "                frame = mp.Image(image_format=mp.ImageFormat.SRGB, data=(frame))\n",
    "                poseResult = poseLandmarker.detect(frame)\n",
    "                handResult = HandLandmarker.detect(frame)\n",
    "                poseCoordinates = poseResult.pose_landmarks\n",
    "                handCoordinates = handResult.hand_landmarks\n",
    "                if poseCoordinates != []:\n",
    "                    cv2.imwrite(img)\n",
    "            '''\n",
    "            cap.release()\n",
    "\n",
    "    #except Exception:\n",
    "        #print('not a video')"
   ]
  },
  {
   "cell_type": "code",
   "execution_count": 8,
   "metadata": {},
   "outputs": [
    {
     "ename": "SyntaxError",
     "evalue": "(unicode error) 'unicodeescape' codec can't decode bytes in position 36-37: truncated \\UXXXXXXXX escape (2582673475.py, line 12)",
     "output_type": "error",
     "traceback": [
      "\u001b[1;36m  Cell \u001b[1;32mIn[8], line 12\u001b[1;36m\u001b[0m\n\u001b[1;33m    print(handResult.handedness[0][0].category_name)'''\u001b[0m\n\u001b[1;37m                                                       ^\u001b[0m\n\u001b[1;31mSyntaxError\u001b[0m\u001b[1;31m:\u001b[0m (unicode error) 'unicodeescape' codec can't decode bytes in position 36-37: truncated \\UXXXXXXXX escape\n"
     ]
    },
    {
     "ename": "",
     "evalue": "",
     "output_type": "error",
     "traceback": [
      "\u001b[1;31mThe Kernel crashed while executing code in the current cell or a previous cell. \n",
      "\u001b[1;31mPlease review the code in the cell(s) to identify a possible cause of the failure. \n",
      "\u001b[1;31mClick <a href='https://aka.ms/vscodeJupyterKernelCrash'>here</a> for more info. \n",
      "\u001b[1;31mView Jupyter <a href='command:jupyter.viewOutput'>log</a> for further details."
     ]
    }
   ],
   "source": [
    "'''img = mp.Image.create_from_file(r\"C:\\Users\\mteer\\OneDrive\\Desktop\\hum.png\")\n",
    "\n",
    "value = [[0, 0, 0]] * len(columnNames)\n",
    "value[0] = labelList[\"หมู\"] \n",
    "poseResult = poseLandmarker.detect(img)\n",
    "handResult = HandLandmarker.detect(img)\n",
    "#if poseResult.pose_landmarks != []:\n",
    "#    print('pass')\n",
    "poseCoordinates = poseResult.pose_landmarks\n",
    "handCoordinates = handResult.hand_landmarks\n",
    "\n",
    "print(handResult.handedness[0][0].category_name)'''"
   ]
  }
 ],
 "metadata": {
  "kernelspec": {
   "display_name": "Python 3",
   "language": "python",
   "name": "python3"
  },
  "language_info": {
   "codemirror_mode": {
    "name": "ipython",
    "version": 3
   },
   "file_extension": ".py",
   "mimetype": "text/x-python",
   "name": "python",
   "nbconvert_exporter": "python",
   "pygments_lexer": "ipython3",
   "version": "3.9.12"
  }
 },
 "nbformat": 4,
 "nbformat_minor": 2
}
